{
 "cells": [
  {
   "cell_type": "markdown",
   "metadata": {},
   "source": [
    "# Create Auth of github\n",
    "And create flask app to upload the file"
   ]
  },
  {
   "cell_type": "code",
   "execution_count": null,
   "metadata": {},
   "outputs": [],
   "source": [
    "from flask import Flask, render_template, request, redirect, url_fro, jsonify\n",
    "from forms import PostForm\n",
    "from model import app, blog_details13, db\n",
    "app=Flask(__name__)\n",
    "posts=[{'blogtitle':\"My first post\",'blogContent':\"Hello how re you\",'date':\"2020, nov 20\"},{'blogtitle':\"Flask project\",'blogContent':\"just do it\",'date':\"2020, nov 20\"}]\n",
    "@app.route(\"/\", method=['GET','POST'])\n",
    "def display():\n",
    "    posts=blog_details13.query.all()\n",
    "     return render_template('display.html', posts=posts)   \n",
    "@app.route(\"/post\", method=['GET','POST'])\n",
    "def post1():\n",
    "    form=PostForm(request.form)\n",
    "    if form.validate():\n",
    "        post1=blog_details13(form.title.data, form.content.data)\n",
    "        db.session.add(post1)\n",
    "        db.session.commit()\n",
    "        return redirect(url_for(\"display\"))\n",
    "    return render_template('create_post1.html', form=form, legend='write post today')   \n",
    "@app.route(\"/json/<id1>\", method=['GET','POST'])\n",
    "def jsonidata(id1):\n",
    "    # Taking data into a variable \n",
    "data=blog_details13.query.filter_by(blogid=id1).first()\n",
    "Converting into string and then to json.\n",
    "    return jsonify({id1: str(data)})\n",
    "if __name__=='__main__':\n",
    "    app.run(host='0.0.0.0', port=8080, debug=True)"
   ]
  }
 ],
 "metadata": {
  "kernelspec": {
   "display_name": "Python 3",
   "language": "python",
   "name": "python3"
  },
  "language_info": {
   "codemirror_mode": {
    "name": "ipython",
    "version": 3
   },
   "file_extension": ".py",
   "mimetype": "text/x-python",
   "name": "python",
   "nbconvert_exporter": "python",
   "pygments_lexer": "ipython3",
   "version": "3.7.4"
  }
 },
 "nbformat": 4,
 "nbformat_minor": 2
}
